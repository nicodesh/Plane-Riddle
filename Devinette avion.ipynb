{
 "cells": [
  {
   "cell_type": "code",
   "execution_count": 37,
   "metadata": {},
   "outputs": [],
   "source": [
    "import numpy as np\n",
    "import random\n",
    "import matplotlib.pyplot as plt\n",
    "import seaborn as sns"
   ]
  },
  {
   "cell_type": "code",
   "execution_count": 21,
   "metadata": {},
   "outputs": [],
   "source": [
    "def jeu_avion(nbr_people):\n",
    "\n",
    "    # Initialization\n",
    "\n",
    "    avion = [\"-\" for i in range(0,nbr_people)]\n",
    "    places = [i for i in range(0,nbr_people)]\n",
    "\n",
    "    # First person\n",
    "\n",
    "    random_place = random.randint(0,nbr_people-1)\n",
    "    avion[random_place] = places[0]\n",
    "    del places[0]\n",
    "\n",
    "    # The others\n",
    "\n",
    "    for i in places:\n",
    "        if avion[i] == \"-\":\n",
    "            avion[i] = i\n",
    "        else:\n",
    "            place_ok = False\n",
    "            random_place = random.randint(0,nbr_people-1)\n",
    "            while (place_ok == False):\n",
    "                if (avion[random_place] == \"-\"):\n",
    "                    avion[random_place] = i\n",
    "                    place_ok = True\n",
    "                else:\n",
    "                    random_place = random.randint(0,nbr_people-1)\n",
    "\n",
    "    # Is the last person at his place?\n",
    "    return avion[99] == 99"
   ]
  },
  {
   "cell_type": "code",
   "execution_count": 28,
   "metadata": {},
   "outputs": [],
   "source": [
    "def lot_jeu_avion(nbr_lancer):\n",
    "    \n",
    "    game_win = 0\n",
    "    game_lost = 0\n",
    "\n",
    "    for i in range(0,nbr_lancer):\n",
    "        if jeu_avion(100) == True:\n",
    "            game_win += 1\n",
    "        else:\n",
    "            game_lost += 1\n",
    "    \n",
    "    return game_win"
   ]
  },
  {
   "cell_type": "code",
   "execution_count": 65,
   "metadata": {},
   "outputs": [],
   "source": [
    "# Create different samples\n",
    "\n",
    "sample = [10, 100, 1000, 5000, 10000]\n",
    "sample_size = len(sample)\n",
    "win = [lot_jeu_avion(i) for i in sample]\n",
    "lost = [sample[i] - win[i] for i in range(0, sample_size)]"
   ]
  },
  {
   "cell_type": "code",
   "execution_count": 66,
   "metadata": {},
   "outputs": [
    {
     "data": {
      "image/png": "[encoded data removed]",
      "text/plain": [
       "<matplotlib.figure.Figure at 0x116371f98>"
      ]
     },
     "metadata": {},
     "output_type": "display_data"
    }
   ],
   "source": [
    "# Plot the samples results\n",
    "\n",
    "fig, ax = plt.subplots()\n",
    "\n",
    "index = np.arange(sample_size)\n",
    "bar_width = 0.35\n",
    "opacity = 0.4\n",
    "\n",
    "rects1 = ax.bar(index, win, bar_width, alpha=opacity, color='b', label='Win')\n",
    "rects2 = ax.bar(index + bar_width, lost, bar_width, alpha=opacity, color='r', label='Lost')\n",
    "\n",
    "ax.set_xlabel('Lancers')\n",
    "ax.set_ylabel('Résultats')\n",
    "ax.set_title('Résultat par échantillon')\n",
    "ax.set_xticks(index + bar_width / 2)\n",
    "ax.set_xticklabels(sample)\n",
    "ax.legend()\n",
    "\n",
    "fig.tight_layout()\n",
    "plt.show()"
   ]
  }
 ],
 "metadata": {
  "kernelspec": {
   "display_name": "Python 3",
   "language": "python",
   "name": "python3"
  },
  "language_info": {
   "codemirror_mode": {
    "name": "ipython",
    "version": 3
   },
   "file_extension": ".py",
   "mimetype": "text/x-python",
   "name": "python",
   "nbconvert_exporter": "python",
   "pygments_lexer": "ipython3",
   "version": "3.6.5"
  }
 },
 "nbformat": 4,
 "nbformat_minor": 2
}
