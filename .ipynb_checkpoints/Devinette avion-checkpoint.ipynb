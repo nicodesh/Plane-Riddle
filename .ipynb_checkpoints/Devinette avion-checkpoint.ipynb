{
 "cells": [
  {
   "cell_type": "code",
   "execution_count": 162,
   "metadata": {},
   "outputs": [],
   "source": [
    "import numpy as np\n",
    "import random"
   ]
  },
  {
   "cell_type": "code",
   "execution_count": 165,
   "metadata": {},
   "outputs": [],
   "source": [
    "def jeu_avion(nbr_people):\n",
    "\n",
    "    # Initialization\n",
    "\n",
    "    avion = [0 for i in range(0,nbr_people)]\n",
    "    places = [i for i in range(0,nbr_people)]\n",
    "\n",
    "    # First person\n",
    "\n",
    "    random_place = random.randint(0,nbr_people-1)\n",
    "    avion[random_place] = places[0]\n",
    "    del places[0]\n",
    "\n",
    "    # The others\n",
    "\n",
    "    for i in places:\n",
    "        if avion[i] == 0:\n",
    "            avion[i] = i\n",
    "        else:\n",
    "            place_ok = False\n",
    "            random_place = random.randint(0,nbr_people-1)\n",
    "            while (place_ok == False):\n",
    "                if (avion[random_place] == 0):\n",
    "                    avion[random_place] = i\n",
    "                    place_ok = True\n",
    "                else:\n",
    "                    random_place = random.randint(0,nbr_people-1)\n",
    "\n",
    "    # Is the last person at his place?\n",
    "    \n",
    "    last_person = places[-1]\n",
    "    return avion[last_person] == last_person\n",
    "\n",
    "game_win = 0\n",
    "game_lost = 0\n",
    "\n",
    "for i in range(0,10000):\n",
    "    if jeu_avion(100) == True:\n",
    "        game_win += 1\n",
    "    else:\n",
    "        game_lost += 1"
   ]
  }
 ],
 "metadata": {
  "kernelspec": {
   "display_name": "Python 3",
   "language": "python",
   "name": "python3"
  },
  "language_info": {
   "codemirror_mode": {
    "name": "ipython",
    "version": 3
   },
   "file_extension": ".py",
   "mimetype": "text/x-python",
   "name": "python",
   "nbconvert_exporter": "python",
   "pygments_lexer": "ipython3",
   "version": "3.6.5"
  }
 },
 "nbformat": 4,
 "nbformat_minor": 2
}
